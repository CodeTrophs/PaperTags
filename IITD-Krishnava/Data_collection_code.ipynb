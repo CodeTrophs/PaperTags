{
 "cells": [
  {
   "cell_type": "markdown",
   "metadata": {},
   "source": [
    "# Getting names and email id:"
   ]
  },
  {
   "cell_type": "code",
   "execution_count": 1,
   "metadata": {},
   "outputs": [],
   "source": [
    "from bs4 import BeautifulSoup\n",
    "import urllib.request\n",
    "import pandas as pd\n",
    "import re"
   ]
  },
  {
   "cell_type": "code",
   "execution_count": 2,
   "metadata": {},
   "outputs": [],
   "source": [
    "df=pd.DataFrame(columns=['Name','Email','Department'])"
   ]
  },
  {
   "cell_type": "markdown",
   "metadata": {},
   "source": [
    "### For applied mechanics"
   ]
  },
  {
   "cell_type": "code",
   "execution_count": 3,
   "metadata": {},
   "outputs": [],
   "source": [
    "source = urllib.request.urlopen('https://am.iitd.ac.in/?q=node/24').read()\n",
    "soup=BeautifulSoup(source,'lxml')\n",
    "for table in soup.find_all('table'):\n",
    "    names=table.find('td',class_=\"rwspeopletitle\")\n",
    "    #entries=table.find_all('td')\n",
    "    txt = table.text\n",
    "    txt=txt.replace('[at]','@')\n",
    "    email=re.findall(\"\\w+@\\w+\\.{1}\\w+[.iitd.ac.in]+\", txt)\n",
    "    if not len(email):\n",
    "        email=re.findall(\"\\w+@\\w+\\.{1}\\w+\", txt) \n",
    "    df.loc[len(df.index)] = [names.text,email[0],\"Department of Applied Mechanics\"]"
   ]
  },
  {
   "cell_type": "markdown",
   "metadata": {},
   "source": [
    "### for Biochemical Engineering and Biotechnology"
   ]
  },
  {
   "cell_type": "code",
   "execution_count": 4,
   "metadata": {},
   "outputs": [],
   "source": [
    "source = urllib.request.urlopen('https://beb.iitd.ac.in/faculty.html').read()\n",
    "soup=BeautifulSoup(source,'lxml')\n",
    "source = urllib.request.urlopen('https://beb.iitd.ac.in/faculty.html').read()\n",
    "soup=BeautifulSoup(source,'lxml')\n",
    "try:\n",
    "    for card in soup.find_all('div',class_=\"card\"):\n",
    "        l=card.a.get('href')\n",
    "        link = urllib.request.urlopen('https://beb.iitd.ac.in/'+l).read()\n",
    "        page=BeautifulSoup(link,'lxml')\n",
    "        name=page.find('font',class_='name')\n",
    "        email=page.p.a\n",
    "        df.loc[len(df.index)] = [names.text,email.text,\"Biochemical Engineering and Biotechnology\"]\n",
    "except:\n",
    "    pass"
   ]
  },
  {
   "cell_type": "markdown",
   "metadata": {},
   "source": [
    "## for chemical engineering"
   ]
  },
  {
   "cell_type": "code",
   "execution_count": 5,
   "metadata": {},
   "outputs": [],
   "source": [
    "source = urllib.request.urlopen('http://chemical.iitd.ac.in/people/').read()\n",
    "soup=BeautifulSoup(source,'lxml')\n",
    "for faculty in soup.find_all('div',class_='each'):\n",
    "    name=faculty.find('div',class_=\"faculty_responsive_val ml5\").text\n",
    "    name=name.strip()\n",
    "    email=faculty.find('div',class_=\"Contact_div table_middle\").a.text\n",
    "    df.loc[len(df.index)] = [name,email,\"Chemical Engineering \"]"
   ]
  },
  {
   "cell_type": "markdown",
   "metadata": {},
   "source": [
    "## for chemistry"
   ]
  },
  {
   "cell_type": "code",
   "execution_count": 6,
   "metadata": {
    "scrolled": true
   },
   "outputs": [],
   "source": [
    "source = urllib.request.urlopen('https://chemistry.iitd.ac.in/faculty.html').read()\n",
    "soup=BeautifulSoup(source,'lxml')\n",
    "name=\"None\"\n",
    "try:\n",
    "    for people in soup.find_all('div',class_=\"row\"):\n",
    "        if people.find('div',class_=\"col-sm-7\"):\n",
    "            if people.find('div',class_=\"col-sm-7\").h3.text.strip()==name:\n",
    "                continue\n",
    "            name= people.find('div',class_=\"col-sm-7\").h3.text.strip()\n",
    "            txt=people.text\n",
    "            txt=txt.replace('(AT)','@')\n",
    "            email=re.findall(\"\\w+@\\w+\\.{1}\\w+[.iitd.ac.in]+\", txt)\n",
    "            df.loc[len(df.index)] = [name,email[0],\"Department of Chemistry\"]\n",
    "except:\n",
    "    pass"
   ]
  },
  {
   "cell_type": "markdown",
   "metadata": {},
   "source": [
    "## for civil"
   ]
  },
  {
   "cell_type": "code",
   "execution_count": 7,
   "metadata": {},
   "outputs": [],
   "source": [
    "source = urllib.request.urlopen('https://civil.iitd.ac.in/index.php?lmenuid=faculty').read()\n",
    "soup=BeautifulSoup(source,'lxml')\n",
    "for td in soup.find_all('td'):\n",
    "    if td.b:\n",
    "        email=td.text\n",
    "        email=email.replace('[at]','@')\n",
    "        email=re.findall(\"\\w+@\\w+\\.{1}\\w+[.iitd.ac.in]+\", email)\n",
    "        #print(td.b.text,email[0])\n",
    "        df.loc[len(df.index)] = [td.b.text,email[0],\"Civil Engg, IIT Delhi\"]"
   ]
  },
  {
   "cell_type": "markdown",
   "metadata": {},
   "source": [
    "## for computer science and engineering"
   ]
  },
  {
   "cell_type": "code",
   "execution_count": 8,
   "metadata": {},
   "outputs": [],
   "source": [
    "source = urllib.request.urlopen('http://www.cse.iitd.ac.in/index.php/2011-12-29-23-14-30/faculty').read()\n",
    "soup=BeautifulSoup(source,'lxml')\n",
    "\n",
    "for tr in soup.find_all('tr'):\n",
    "    if tr.a:\n",
    "        email=tr.text\n",
    "        email=email.replace(' AT ','@')\n",
    "        email=re.findall(\"\\w+@\\w+\\.{1}\\w+[.iitd.ac.in]+\", email)\n",
    "        if not email:\n",
    "            email=re.findall(\"\\w+@\\w+\\.{1}\\w+\",tr.text.replace(' AT ','@'))\n",
    "        if not email:\n",
    "            continue\n",
    "        df.loc[len(df.index)] = [tr.a.text,email[0],\"Department of Computer Science and Engineering\"]\n",
    "        #print(tr.a.text,email[0])"
   ]
  },
  {
   "cell_type": "markdown",
   "metadata": {},
   "source": [
    "## for electrical"
   ]
  },
  {
   "cell_type": "code",
   "execution_count": 9,
   "metadata": {},
   "outputs": [],
   "source": [
    "source = urllib.request.urlopen('https://ee.iitd.ac.in/people/faculty.html').read()\n",
    "soup=BeautifulSoup(source,'lxml')\n",
    "for tags in soup.find_all('td'):\n",
    "    if tags.span:\n",
    "        txt=tags.text\n",
    "        txt=txt.replace('[AT]','@')\n",
    "        txt=txt.replace('[at]','@')\n",
    "        email=re.findall(\"\\w+@\\w+\\.{1}\\w+[.iitd.ac.in]+\", txt)\n",
    "        if not email:\n",
    "            email=['none']\n",
    "            continue\n",
    "        df.loc[len(df.index)] = [tags.strong.text,email[0],\"Department of Electrical Engineering\"]"
   ]
  },
  {
   "cell_type": "markdown",
   "metadata": {},
   "source": [
    "## for Management"
   ]
  },
  {
   "cell_type": "code",
   "execution_count": 10,
   "metadata": {},
   "outputs": [],
   "source": [
    "source = urllib.request.urlopen('https://dms.iitd.ac.in/all-faculty-members/').read()\n",
    "soup=BeautifulSoup(source,'lxml')\n",
    "for people in soup.find_all('div',class_=\"item-content\"):\n",
    "    name=people.h3.text\n",
    "    email=re.findall(\"\\w+@\\w+\\.{1}\\w+[.iitd.ac.in]+\",str(people))\n",
    "    if not email:\n",
    "        email=re.findall(\"\\w+@\\w+\\.{1}\\w+\",str(people))\n",
    "    if not email:\n",
    "        email=[\"none\"]\n",
    "    df.loc[len(df.index)] = [name,email[0],\"Department of Management Studies\"]"
   ]
  },
  {
   "cell_type": "markdown",
   "metadata": {},
   "source": [
    "## For Mathematics"
   ]
  },
  {
   "cell_type": "code",
   "execution_count": 11,
   "metadata": {},
   "outputs": [],
   "source": [
    "source = urllib.request.urlopen('https://maths.iitd.ac.in/drupal/faculty').read()\n",
    "soup=BeautifulSoup(source,'lxml')\n",
    "for people in soup.find_all('tr'):\n",
    "    if people.p:\n",
    "        if not people.a:\n",
    "            continue\n",
    "        name=people.a.text\n",
    "        txt=people.text\n",
    "        txt=txt.replace('[at]','@')\n",
    "        email=re.findall(\"\\w+@\\w+\\.{1}\\w+[.iitd.ac.in]+\", txt)\n",
    "        if not email:\n",
    "            email=re.findall(\"\\w+@\\w+\\.{1}\\w+\",txt)\n",
    "        df.loc[len(df.index)] = [name,email[0],\"Department of Mathematics\"]"
   ]
  },
  {
   "cell_type": "markdown",
   "metadata": {},
   "source": [
    "## For Mechanics"
   ]
  },
  {
   "cell_type": "code",
   "execution_count": 12,
   "metadata": {},
   "outputs": [],
   "source": [
    "source = urllib.request.urlopen('https://mech.iitd.ac.in/faculty').read()\n",
    "soup=BeautifulSoup(source,'lxml')\n",
    "for t in soup.find_all('address'):\n",
    "    email=t.text.replace('[at]','@')\n",
    "    t=t.text.split('\\n')\n",
    "    name=t[1]\n",
    "    email=re.findall(\"\\w+@\\w+\\.{1}\\w+[.iitd.ac.in]+\", email)\n",
    "    if not email:\n",
    "        continue\n",
    "    df.loc[len(df.index)] = [name,email[0],\"Department of Mechanical Engineering\"]"
   ]
  },
  {
   "cell_type": "markdown",
   "metadata": {},
   "source": [
    "## For physics"
   ]
  },
  {
   "cell_type": "code",
   "execution_count": 13,
   "metadata": {},
   "outputs": [],
   "source": [
    "source = urllib.request.urlopen('https://physics.iitd.ac.in/faculty').read()\n",
    "soup=BeautifulSoup(source,'lxml')\n",
    "for faculty in soup.find_all('div',class_=\"team-details ar-team-ht\"):\n",
    "    email=faculty.find('span',class_=\"spamspan\").text\n",
    "    email=email.replace('[dot]','.')\n",
    "    email=email.replace('[at]','@')\n",
    "    name=faculty.h4.text\n",
    "    df.loc[len(df.index)] = [name,email,\"Department of Physics\"]"
   ]
  },
  {
   "cell_type": "markdown",
   "metadata": {},
   "source": [
    "## For textile and fibre"
   ]
  },
  {
   "cell_type": "code",
   "execution_count": 14,
   "metadata": {},
   "outputs": [],
   "source": [
    "source = urllib.request.urlopen('https://textile.iitd.ac.in/faculty.php').read()\n",
    "soup=BeautifulSoup(source,'lxml')\n",
    "for faculty in soup.find_all('div',class_=\"faculty-info\"):\n",
    "    link=faculty.a.get('href')\n",
    "    try:\n",
    "        conpage=urllib.request.urlopen('https://textile.iitd.ac.in/'+link+\"#contact-details\").read()\n",
    "    except:\n",
    "        continue\n",
    "    conpage_html=BeautifulSoup(conpage,'lxml')\n",
    "    em=conpage_html.find('ul',class_=\"faculty-contact\").a.text\n",
    "    em=em.replace('[at]','@')\n",
    "    em=em.replace('[AT]','@')\n",
    "    email=re.findall(\"\\w+@\\w+\\.{1}\\w+[.iitd.ac.in]+\", em)\n",
    "    if not email:\n",
    "        email=re.findall(\"\\w+@\\w+\\.{1}\\w+[.iitd.ernet.in]+\", em)\n",
    "    if not email:\n",
    "        email=[\"None\"]\n",
    "    name=conpage_html.h2.text\n",
    "    df.loc[len(df.index)] = [name,email[0],\"Department of Textile Technology\"]"
   ]
  },
  {
   "cell_type": "markdown",
   "metadata": {},
   "source": [
    "## For Design"
   ]
  },
  {
   "cell_type": "code",
   "execution_count": 15,
   "metadata": {},
   "outputs": [],
   "source": [
    "source = urllib.request.urlopen('https://design.iitd.ac.in/faculty-contacts.html').read()\n",
    "soup=BeautifulSoup(source,'lxml')\n",
    "name=\"None\"\n",
    "for people in soup.find_all('div',class_=\"clearfix grpelem\"):\n",
    "    if people.find('p',class_=\"General\"):\n",
    "        if name==people.find('p',class_=\"General\").text:\n",
    "            continue\n",
    "        txt=people.text\n",
    "        email=re.findall(\"\\w+@\\w+\\.{1}\\w+[.iitd.ac.in]+\", txt)\n",
    "        if not len(email):\n",
    "            email=re.findall(\"\\w+@\\w+\\.{1}\\w+\", txt)\n",
    "        name=people.find('p',class_=\"General\").text\n",
    "        df.loc[len(df.index)] = [name,email[0],\"Department of Design\"]"
   ]
  },
  {
   "cell_type": "markdown",
   "metadata": {},
   "source": [
    "## For Humanities"
   ]
  },
  {
   "cell_type": "code",
   "execution_count": 16,
   "metadata": {},
   "outputs": [],
   "source": [
    "source = urllib.request.urlopen('https://hss.iitd.ac.in/faculty').read()\n",
    "soup=BeautifulSoup(source,'lxml')\n",
    "name=\"None\"\n",
    "for people in soup.find_all('div'):\n",
    "        if people.find('div',class_=\"views-field views-field-title\"):\n",
    "            txt=people.text\n",
    "            txt=txt.replace('[at]','@')\n",
    "            txt=txt.replace(' [dot] ','.')\n",
    "            email=re.findall(\"\\w+@\\w+\\.{1}\\w+[.iitd.ac.in]+\", txt)\n",
    "            if not email:\n",
    "                txt=txt.replace(' @ ','@')\n",
    "                email=re.findall(\"\\w+@\\w+\\.{1}\\w+[.iitd.ac.in]+\", txt)\n",
    "            if not email:\n",
    "                email=[\"None\"]\n",
    "            if name==people.find('div',class_=\"views-field views-field-title\").text:\n",
    "                continue\n",
    "            name=people.find('div',class_=\"views-field views-field-title\").text\n",
    "            df.loc[len(df.index)] = [name,email[0],\"Humanities & Social Sciences\"]"
   ]
  },
  {
   "cell_type": "code",
   "execution_count": 17,
   "metadata": {
    "scrolled": false
   },
   "outputs": [
    {
     "data": {
      "text/html": [
       "<div>\n",
       "<style scoped>\n",
       "    .dataframe tbody tr th:only-of-type {\n",
       "        vertical-align: middle;\n",
       "    }\n",
       "\n",
       "    .dataframe tbody tr th {\n",
       "        vertical-align: top;\n",
       "    }\n",
       "\n",
       "    .dataframe thead th {\n",
       "        text-align: right;\n",
       "    }\n",
       "</style>\n",
       "<table border=\"1\" class=\"dataframe\">\n",
       "  <thead>\n",
       "    <tr style=\"text-align: right;\">\n",
       "      <th></th>\n",
       "      <th>Name</th>\n",
       "      <th>Email</th>\n",
       "      <th>Department</th>\n",
       "    </tr>\n",
       "  </thead>\n",
       "  <tbody>\n",
       "    <tr>\n",
       "      <td>488</td>\n",
       "      <td>Sumitava Mukherjee</td>\n",
       "      <td>sm1@hss.iitd.ac.in</td>\n",
       "      <td>Humanities &amp; Social Sciences</td>\n",
       "    </tr>\n",
       "    <tr>\n",
       "      <td>489</td>\n",
       "      <td>V Upadhyay</td>\n",
       "      <td>upadhyay@hss.iitd.</td>\n",
       "      <td>Humanities &amp; Social Sciences</td>\n",
       "    </tr>\n",
       "    <tr>\n",
       "      <td>490</td>\n",
       "      <td>Varsha Singh</td>\n",
       "      <td>vsingh@iitd.ac.in</td>\n",
       "      <td>Humanities &amp; Social Sciences</td>\n",
       "    </tr>\n",
       "    <tr>\n",
       "      <td>491</td>\n",
       "      <td>Vibha Arora</td>\n",
       "      <td>aurora@hss.iitd.ac.in</td>\n",
       "      <td>Humanities &amp; Social Sciences</td>\n",
       "    </tr>\n",
       "    <tr>\n",
       "      <td>492</td>\n",
       "      <td>Yashpal  Jogdand</td>\n",
       "      <td>None</td>\n",
       "      <td>Humanities &amp; Social Sciences</td>\n",
       "    </tr>\n",
       "  </tbody>\n",
       "</table>\n",
       "</div>"
      ],
      "text/plain": [
       "                     Name                  Email                    Department\n",
       "488   Sumitava Mukherjee      sm1@hss.iitd.ac.in  Humanities & Social Sciences\n",
       "489           V Upadhyay      upadhyay@hss.iitd.  Humanities & Social Sciences\n",
       "490         Varsha Singh       vsingh@iitd.ac.in  Humanities & Social Sciences\n",
       "491          Vibha Arora   aurora@hss.iitd.ac.in  Humanities & Social Sciences\n",
       "492     Yashpal  Jogdand                    None  Humanities & Social Sciences"
      ]
     },
     "execution_count": 17,
     "metadata": {},
     "output_type": "execute_result"
    }
   ],
   "source": [
    "df.tail()"
   ]
  },
  {
   "cell_type": "code",
   "execution_count": 18,
   "metadata": {},
   "outputs": [],
   "source": [
    "df.to_json('Faculty_info.json',orient='table',index=False)"
   ]
  },
  {
   "cell_type": "code",
   "execution_count": 19,
   "metadata": {},
   "outputs": [
    {
     "data": {
      "text/html": [
       "<div>\n",
       "<style scoped>\n",
       "    .dataframe tbody tr th:only-of-type {\n",
       "        vertical-align: middle;\n",
       "    }\n",
       "\n",
       "    .dataframe tbody tr th {\n",
       "        vertical-align: top;\n",
       "    }\n",
       "\n",
       "    .dataframe thead th {\n",
       "        text-align: right;\n",
       "    }\n",
       "</style>\n",
       "<table border=\"1\" class=\"dataframe\">\n",
       "  <thead>\n",
       "    <tr style=\"text-align: right;\">\n",
       "      <th></th>\n",
       "      <th>Name</th>\n",
       "      <th>Email</th>\n",
       "      <th>Department</th>\n",
       "    </tr>\n",
       "  </thead>\n",
       "  <tbody>\n",
       "    <tr>\n",
       "      <td>0</td>\n",
       "      <td>Sanjeev Sanghi   Head, Applied Mechanics</td>\n",
       "      <td>hodam@admin.iitd.ac.in</td>\n",
       "      <td>Department of Applied Mechanics</td>\n",
       "    </tr>\n",
       "    <tr>\n",
       "      <td>1</td>\n",
       "      <td>S.N. Singh   Ph.D. (IITD) Professor</td>\n",
       "      <td>sns@am.iitd.ac.in</td>\n",
       "      <td>Department of Applied Mechanics</td>\n",
       "    </tr>\n",
       "    <tr>\n",
       "      <td>2</td>\n",
       "      <td>Suhail Ahmad  Ph.D. (IITD) Professor</td>\n",
       "      <td>suhail@am.iitd.ac.in</td>\n",
       "      <td>Department of Applied Mechanics</td>\n",
       "    </tr>\n",
       "    <tr>\n",
       "      <td>3</td>\n",
       "      <td>Puneet Mahajan Ph.D. (Montana State) TRIPP Cha...</td>\n",
       "      <td>mahajan@am.iitd.ac.in</td>\n",
       "      <td>Department of Applied Mechanics</td>\n",
       "    </tr>\n",
       "    <tr>\n",
       "      <td>4</td>\n",
       "      <td>S.V. Veeravalli Ph.D. (Cornell) Professor</td>\n",
       "      <td>svrvalli@am.iitd.ac.in</td>\n",
       "      <td>Department of Applied Mechanics</td>\n",
       "    </tr>\n",
       "    <tr>\n",
       "      <td>...</td>\n",
       "      <td>...</td>\n",
       "      <td>...</td>\n",
       "      <td>...</td>\n",
       "    </tr>\n",
       "    <tr>\n",
       "      <td>488</td>\n",
       "      <td>Sumitava Mukherjee</td>\n",
       "      <td>sm1@hss.iitd.ac.in</td>\n",
       "      <td>Humanities &amp; Social Sciences</td>\n",
       "    </tr>\n",
       "    <tr>\n",
       "      <td>489</td>\n",
       "      <td>V Upadhyay</td>\n",
       "      <td>upadhyay@hss.iitd.</td>\n",
       "      <td>Humanities &amp; Social Sciences</td>\n",
       "    </tr>\n",
       "    <tr>\n",
       "      <td>490</td>\n",
       "      <td>Varsha Singh</td>\n",
       "      <td>vsingh@iitd.ac.in</td>\n",
       "      <td>Humanities &amp; Social Sciences</td>\n",
       "    </tr>\n",
       "    <tr>\n",
       "      <td>491</td>\n",
       "      <td>Vibha Arora</td>\n",
       "      <td>aurora@hss.iitd.ac.in</td>\n",
       "      <td>Humanities &amp; Social Sciences</td>\n",
       "    </tr>\n",
       "    <tr>\n",
       "      <td>492</td>\n",
       "      <td>Yashpal  Jogdand</td>\n",
       "      <td>None</td>\n",
       "      <td>Humanities &amp; Social Sciences</td>\n",
       "    </tr>\n",
       "  </tbody>\n",
       "</table>\n",
       "<p>493 rows × 3 columns</p>\n",
       "</div>"
      ],
      "text/plain": [
       "                                                  Name  \\\n",
       "0             Sanjeev Sanghi   Head, Applied Mechanics   \n",
       "1                 S.N. Singh   Ph.D. (IITD) Professor    \n",
       "2                 Suhail Ahmad  Ph.D. (IITD) Professor   \n",
       "3    Puneet Mahajan Ph.D. (Montana State) TRIPP Cha...   \n",
       "4           S.V. Veeravalli Ph.D. (Cornell) Professor    \n",
       "..                                                 ...   \n",
       "488                                Sumitava Mukherjee    \n",
       "489                                        V Upadhyay    \n",
       "490                                      Varsha Singh    \n",
       "491                                       Vibha Arora    \n",
       "492                                  Yashpal  Jogdand    \n",
       "\n",
       "                      Email                       Department  \n",
       "0    hodam@admin.iitd.ac.in  Department of Applied Mechanics  \n",
       "1         sns@am.iitd.ac.in  Department of Applied Mechanics  \n",
       "2      suhail@am.iitd.ac.in  Department of Applied Mechanics  \n",
       "3     mahajan@am.iitd.ac.in  Department of Applied Mechanics  \n",
       "4    svrvalli@am.iitd.ac.in  Department of Applied Mechanics  \n",
       "..                      ...                              ...  \n",
       "488      sm1@hss.iitd.ac.in     Humanities & Social Sciences  \n",
       "489      upadhyay@hss.iitd.     Humanities & Social Sciences  \n",
       "490       vsingh@iitd.ac.in     Humanities & Social Sciences  \n",
       "491   aurora@hss.iitd.ac.in     Humanities & Social Sciences  \n",
       "492                    None     Humanities & Social Sciences  \n",
       "\n",
       "[493 rows x 3 columns]"
      ]
     },
     "execution_count": 19,
     "metadata": {},
     "output_type": "execute_result"
    }
   ],
   "source": [
    "pdf=pd.read_json('Faculty_info.json',orient='table')\n",
    "pdf"
   ]
  },
  {
   "cell_type": "code",
   "execution_count": 20,
   "metadata": {},
   "outputs": [],
   "source": [
    "df.to_csv('Faculty_info.csv',index=False)"
   ]
  }
 ],
 "metadata": {
  "kernelspec": {
   "display_name": "Python 3",
   "language": "python",
   "name": "python3"
  },
  "language_info": {
   "codemirror_mode": {
    "name": "ipython",
    "version": 3
   },
   "file_extension": ".py",
   "mimetype": "text/x-python",
   "name": "python",
   "nbconvert_exporter": "python",
   "pygments_lexer": "ipython3",
   "version": "3.7.4"
  }
 },
 "nbformat": 4,
 "nbformat_minor": 2
}
